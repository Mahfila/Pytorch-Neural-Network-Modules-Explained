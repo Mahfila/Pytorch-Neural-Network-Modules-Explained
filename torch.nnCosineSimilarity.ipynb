{
 "cells": [
  {
   "cell_type": "code",
   "execution_count": 1,
   "id": "29e87792",
   "metadata": {},
   "outputs": [],
   "source": [
    "import torch\n",
    "import torch.nn as nn"
   ]
  },
  {
   "cell_type": "code",
   "execution_count": 57,
   "id": "29f1a95c",
   "metadata": {},
   "outputs": [],
   "source": [
    "input1 = torch.tensor([[20,40],[20,40]],dtype=torch.float32)\n",
    "input2 = torch.tensor([[30,20],[30,20]],dtype=torch.float32)"
   ]
  },
  {
   "cell_type": "code",
   "execution_count": 58,
   "id": "b2cf39c0",
   "metadata": {},
   "outputs": [],
   "source": [
    "\n",
    "cos = nn.CosineSimilarity(dim=1, eps=1e-6)\n",
    "output = cos(input1, input2)"
   ]
  },
  {
   "cell_type": "code",
   "execution_count": 63,
   "id": "e00c1727",
   "metadata": {},
   "outputs": [
    {
     "data": {
      "text/plain": [
       "tensor([0.8682, 0.8682])"
      ]
     },
     "execution_count": 63,
     "metadata": {},
     "output_type": "execute_result"
    }
   ],
   "source": [
    "output"
   ]
  }
 ],
 "metadata": {
  "kernelspec": {
   "display_name": "Python 3 (ipykernel)",
   "language": "python",
   "name": "python3"
  },
  "language_info": {
   "codemirror_mode": {
    "name": "ipython",
    "version": 3
   },
   "file_extension": ".py",
   "mimetype": "text/x-python",
   "name": "python",
   "nbconvert_exporter": "python",
   "pygments_lexer": "ipython3",
   "version": "3.9.4"
  }
 },
 "nbformat": 4,
 "nbformat_minor": 5
}
