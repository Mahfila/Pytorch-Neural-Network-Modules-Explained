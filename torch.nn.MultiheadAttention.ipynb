{
 "cells": [
  {
   "cell_type": "code",
   "execution_count": 23,
   "id": "1bd60e26",
   "metadata": {},
   "outputs": [],
   "source": [
    "import torch.nn as nn\n",
    "import torch\n",
    "torch.manual_seed(1773) \n",
    "import math\n",
    "import copy"
   ]
  },
  {
   "cell_type": "markdown",
   "id": "5d310d32",
   "metadata": {},
   "source": [
    "### Pytorch's way"
   ]
  },
  {
   "cell_type": "code",
   "execution_count": 24,
   "id": "29a6f8a8",
   "metadata": {},
   "outputs": [],
   "source": [
    "embed_dim = 2\n",
    "num_heads = 1\n",
    "query = torch.tensor([[[0.7204, 0.0731],\n",
    "         [0.9699, 0.1078],\n",
    "         [0.8829, 0.4132]]])\n",
    "key = query\n",
    "value = query\n",
    "\n",
    "multihead_attn = nn.MultiheadAttention(embed_dim, num_heads,batch_first=True,bias=True)\n",
    "attn_output, attn_output_weights = multihead_attn(query, key, value)"
   ]
  },
  {
   "cell_type": "markdown",
   "id": "03d5d4f6",
   "metadata": {},
   "source": [
    "### Getting the parameters"
   ]
  },
  {
   "cell_type": "code",
   "execution_count": 25,
   "id": "273f4682",
   "metadata": {},
   "outputs": [
    {
     "data": {
      "text/plain": [
       "tensor([[-0.5774,  0.5295],\n",
       "        [ 0.2826, -0.5617],\n",
       "        [ 0.3290, -0.5050],\n",
       "        [-0.0958,  0.8166],\n",
       "        [ 0.0949, -0.7858],\n",
       "        [-0.1903, -0.7558]])"
      ]
     },
     "execution_count": 25,
     "metadata": {},
     "output_type": "execute_result"
    }
   ],
   "source": [
    "multihead_attn.state_dict()['in_proj_weight']"
   ]
  },
  {
   "cell_type": "code",
   "execution_count": 26,
   "id": "5911821a",
   "metadata": {},
   "outputs": [
    {
     "data": {
      "text/plain": [
       "tensor([[-0.5774,  0.5295],\n",
       "        [ 0.2826, -0.5617]])"
      ]
     },
     "execution_count": 26,
     "metadata": {},
     "output_type": "execute_result"
    }
   ],
   "source": [
    "multihead_attn.state_dict()['in_proj_weight'].chunk(3)[0]"
   ]
  },
  {
   "cell_type": "code",
   "execution_count": 27,
   "id": "c6a43d23",
   "metadata": {
    "scrolled": true
   },
   "outputs": [
    {
     "data": {
      "text/plain": [
       "torch.Size([6, 2])"
      ]
     },
     "execution_count": 27,
     "metadata": {},
     "output_type": "execute_result"
    }
   ],
   "source": [
    "multihead_attn.state_dict()['in_proj_weight'].shape"
   ]
  },
  {
   "cell_type": "code",
   "execution_count": 28,
   "id": "944e8fe0",
   "metadata": {},
   "outputs": [
    {
     "data": {
      "text/plain": [
       "torch.Size([6])"
      ]
     },
     "execution_count": 28,
     "metadata": {},
     "output_type": "execute_result"
    }
   ],
   "source": [
    "multihead_attn.state_dict()['in_proj_bias'].shape"
   ]
  },
  {
   "cell_type": "code",
   "execution_count": 29,
   "id": "6f2ef31c",
   "metadata": {},
   "outputs": [
    {
     "data": {
      "text/plain": [
       "torch.Size([2, 2])"
      ]
     },
     "execution_count": 29,
     "metadata": {},
     "output_type": "execute_result"
    }
   ],
   "source": [
    "multihead_attn.state_dict()['out_proj.weight'].shape"
   ]
  },
  {
   "cell_type": "code",
   "execution_count": 30,
   "id": "10b7d68a",
   "metadata": {},
   "outputs": [
    {
     "data": {
      "text/plain": [
       "torch.Size([2])"
      ]
     },
     "execution_count": 30,
     "metadata": {},
     "output_type": "execute_result"
    }
   ],
   "source": [
    "multihead_attn.state_dict()['out_proj.bias'].shape"
   ]
  },
  {
   "cell_type": "code",
   "execution_count": 31,
   "id": "e61847fe",
   "metadata": {
    "scrolled": false
   },
   "outputs": [
    {
     "data": {
      "text/plain": [
       "tensor([[[ 0.2134, -0.0416],\n",
       "         [ 0.2143, -0.0420],\n",
       "         [ 0.2120, -0.0410]]], grad_fn=<TransposeBackward0>)"
      ]
     },
     "execution_count": 31,
     "metadata": {},
     "output_type": "execute_result"
    }
   ],
   "source": [
    "attn_output"
   ]
  },
  {
   "cell_type": "code",
   "execution_count": 32,
   "id": "3b292710",
   "metadata": {
    "scrolled": false
   },
   "outputs": [
    {
     "data": {
      "text/plain": [
       "tensor([[[0.3282, 0.3227, 0.3491],\n",
       "         [0.3265, 0.3193, 0.3542],\n",
       "         [0.3317, 0.3273, 0.3410]]], grad_fn=<DivBackward0>)"
      ]
     },
     "execution_count": 32,
     "metadata": {},
     "output_type": "execute_result"
    }
   ],
   "source": [
    "attn_output_weights"
   ]
  },
  {
   "cell_type": "markdown",
   "id": "ac569e18",
   "metadata": {},
   "source": [
    "### Replicating Pytorch"
   ]
  },
  {
   "cell_type": "code",
   "execution_count": 36,
   "id": "fdea18d7",
   "metadata": {},
   "outputs": [],
   "source": [
    "embed_dim = 2\n",
    "num_heads = 1\n",
    "query = torch.tensor([[[0.7204, 0.0731],\n",
    "         [0.9699, 0.1078],\n",
    "         [0.8829, 0.4132]]])\n",
    "key = query\n",
    "value = query\n",
    "weight = multihead_attn.state_dict()['in_proj_weight']\n",
    "\n",
    "q,k, v =  query.matmul(weight.t()).chunk(3, dim=-1)\n",
    "\n",
    "v = v.reshape(3,2)\n",
    "q = q.reshape(3,2)\n",
    "k = k.reshape(3,2)\n",
    "q = q / math.sqrt(embed_dim)\n",
    "attn1 = torch.matmul(q,k.T)\n",
    "m = nn.Softmax(dim=-1)\n",
    "my_attn_output_weights = m(attn1)\n",
    "output = torch.matmul(attn, v)\n",
    "output = output.reshape((3,2))\n",
    "out_proj = multihead_attn.state_dict()['out_proj.weight']\n",
    "my_output = output.matmul(out_proj.t())"
   ]
  },
  {
   "cell_type": "code",
   "execution_count": 37,
   "id": "ce8183ff",
   "metadata": {
    "scrolled": true
   },
   "outputs": [
    {
     "data": {
      "text/plain": [
       "tensor([[ 0.2134, -0.0416],\n",
       "        [ 0.2143, -0.0420],\n",
       "        [ 0.2120, -0.0410]])"
      ]
     },
     "execution_count": 37,
     "metadata": {},
     "output_type": "execute_result"
    }
   ],
   "source": [
    "my_output"
   ]
  },
  {
   "cell_type": "code",
   "execution_count": 38,
   "id": "f6c230ee",
   "metadata": {},
   "outputs": [
    {
     "data": {
      "text/plain": [
       "tensor([[0.3282, 0.3227, 0.3491],\n",
       "        [0.3265, 0.3193, 0.3542],\n",
       "        [0.3317, 0.3273, 0.3410]])"
      ]
     },
     "execution_count": 38,
     "metadata": {},
     "output_type": "execute_result"
    }
   ],
   "source": [
    "my_attn_output_weights"
   ]
  },
  {
   "cell_type": "code",
   "execution_count": null,
   "id": "defce2b3",
   "metadata": {},
   "outputs": [],
   "source": []
  }
 ],
 "metadata": {
  "kernelspec": {
   "display_name": "Python 3 (ipykernel)",
   "language": "python",
   "name": "python3"
  },
  "language_info": {
   "codemirror_mode": {
    "name": "ipython",
    "version": 3
   },
   "file_extension": ".py",
   "mimetype": "text/x-python",
   "name": "python",
   "nbconvert_exporter": "python",
   "pygments_lexer": "ipython3",
   "version": "3.9.4"
  }
 },
 "nbformat": 4,
 "nbformat_minor": 5
}
