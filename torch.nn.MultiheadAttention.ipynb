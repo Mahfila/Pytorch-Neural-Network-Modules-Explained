{
 "cells": [
  {
   "cell_type": "code",
   "execution_count": 23,
   "id": "1bd60e26",
   "metadata": {},
   "outputs": [],
   "source": [
    "import torch.nn as nn\n",
    "import torch\n",
    "torch.manual_seed(1773) \n",
    "import math"
   ]
  },
  {
   "cell_type": "markdown",
   "id": "5d310d32",
   "metadata": {},
   "source": [
    "### Pytorch's way"
   ]
  },
  {
   "cell_type": "code",
   "execution_count": 24,
   "id": "29a6f8a8",
   "metadata": {},
   "outputs": [],
   "source": [
    "embed_dim = 2\n",
    "num_heads = 1\n",
    "query = torch.tensor([[[0.7204, 0.0731],\n",
    "         [0.9699, 0.1078],\n",
    "         [0.8829, 0.4132]]])\n",
    "key = query\n",
    "value = query\n",
    "\n",
    "multihead_attn = nn.MultiheadAttention(embed_dim, num_heads,batch_first=True,bias=True)\n",
    "attn_output, attn_output_weights = multihead_attn(query, key, value)"
   ]
  },
  {
   "cell_type": "markdown",
   "id": "03d5d4f6",
   "metadata": {},
   "source": [
    "### Getting the parameters"
   ]
  },
  {
   "cell_type": "markdown",
   "id": "ac569e18",
   "metadata": {},
   "source": [
    "### Replicating Pytorch"
   ]
  },
  {
   "cell_type": "code",
   "execution_count": 36,
   "id": "fdea18d7",
   "metadata": {},
   "outputs": [],
   "source": [
    "embed_dim = 2\n",
    "num_heads = 1\n",
    "query = torch.tensor([[[0.7204, 0.0731],\n",
    "         [0.9699, 0.1078],\n",
    "         [0.8829, 0.4132]]])\n",
    "key = query\n",
    "value = query\n",
    "weight = multihead_attn.state_dict()['in_proj_weight']\n",
    "\n",
    "q,k, v =  query.matmul(weight.t()).chunk(3, dim=-1)\n",
    "\n",
    "v = v.reshape(3,2)\n",
    "q = q.reshape(3,2)\n",
    "k = k.reshape(3,2)\n",
    "q = q / math.sqrt(embed_dim)\n",
    "attn1 = torch.matmul(q,k.T)\n",
    "m = nn.Softmax(dim=-1)\n",
    "my_attn_output_weights = m(attn1)\n",
    "output = torch.matmul(my_attn_output_weights, v)\n",
    "output = output.reshape((3,2))\n",
    "out_proj = multihead_attn.state_dict()['out_proj.weight']\n",
    "my_output = output.matmul(out_proj.t())"
   ]
  }
 ],
 "metadata": {
  "kernelspec": {
   "display_name": "Python 3 (ipykernel)",
   "language": "python",
   "name": "python3"
  },
  "language_info": {
   "codemirror_mode": {
    "name": "ipython",
    "version": 3
   },
   "file_extension": ".py",
   "mimetype": "text/x-python",
   "name": "python",
   "nbconvert_exporter": "python",
   "pygments_lexer": "ipython3",
   "version": "3.9.4"
  }
 },
 "nbformat": 4,
 "nbformat_minor": 5
}
