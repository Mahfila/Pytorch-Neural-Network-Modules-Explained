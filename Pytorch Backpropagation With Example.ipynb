{
 "cells": [
  {
   "cell_type": "code",
   "execution_count": 1,
   "id": "3cd18638",
   "metadata": {
    "scrolled": false,
    "pycharm": {
     "name": "#%%\n"
    }
   },
   "outputs": [
    {
     "data": {
      "text/plain": [
       "<torch._C.Generator at 0x7fe2ad02eef0>"
      ]
     },
     "execution_count": 1,
     "metadata": {},
     "output_type": "execute_result"
    }
   ],
   "source": [
    "import torch.nn as nn\n",
    "import torch\n",
    "torch.manual_seed(2)"
   ]
  },
  {
   "cell_type": "code",
   "execution_count": 2,
   "id": "8fd255d0",
   "metadata": {
    "pycharm": {
     "name": "#%%\n"
    }
   },
   "outputs": [],
   "source": [
    "BS = 2 #batch size"
   ]
  },
  {
   "cell_type": "markdown",
   "id": "b1afa383",
   "metadata": {
    "pycharm": {
     "name": "#%% md\n"
    }
   },
   "source": [
    "### Defining the network\n",
    " - Note : Rerun till you recieve no errors :("
   ]
  },
  {
   "cell_type": "code",
   "execution_count": 6,
   "id": "0c72d6f2",
   "metadata": {
    "pycharm": {
     "name": "#%%\n"
    }
   },
   "outputs": [],
   "source": [
    "model = torch.nn.Sequential(nn.Linear(2,2),nn.Linear(2,2),nn.Linear(2,1))\n",
    "target = torch.tensor([[1.0],[1.0]]).reshape((BS,1))\n",
    "A0 = torch.tensor([[2.0,1.0],[2.0,1.0]])\n",
    "loss_fn = nn.BCELoss()\n",
    "optimizer = torch.optim.SGD(model.parameters(), lr=0.1)\n",
    "output = model(A0)\n",
    "loss = loss_fn(output,target)\n",
    "loss.backward()\n"
   ]
  },
  {
   "cell_type": "code",
   "execution_count": 7,
   "id": "12c88a78",
   "metadata": {
    "pycharm": {
     "name": "#%%\n"
    }
   },
   "outputs": [
    {
     "data": {
      "text/plain": [
       "tensor([[0.9693],\n",
       "        [0.9693]], grad_fn=<AddmmBackward>)"
      ]
     },
     "execution_count": 7,
     "metadata": {},
     "output_type": "execute_result"
    }
   ],
   "source": [
    "output"
   ]
  },
  {
   "cell_type": "markdown",
   "id": "937cdb6c",
   "metadata": {
    "pycharm": {
     "name": "#%% md\n"
    }
   },
   "source": [
    "### Getting the parameters"
   ]
  },
  {
   "cell_type": "code",
   "execution_count": 8,
   "id": "2d8afd50",
   "metadata": {
    "pycharm": {
     "name": "#%%\n"
    }
   },
   "outputs": [],
   "source": [
    "W1 = model[0].weight\n",
    "B1 = model[0].bias\n",
    "W2 = model[1].weight\n",
    "B2 = model[1].bias\n",
    "W3 = model[2].weight\n",
    "B3 = model[2].bias"
   ]
  },
  {
   "cell_type": "markdown",
   "id": "dd5659cf",
   "metadata": {
    "pycharm": {
     "name": "#%% md\n"
    }
   },
   "source": [
    "### Getting the grads"
   ]
  },
  {
   "cell_type": "code",
   "execution_count": 9,
   "id": "c132422d",
   "metadata": {
    "pycharm": {
     "name": "#%%\n"
    }
   },
   "outputs": [],
   "source": [
    "DW1_ = model[0].weight.grad\n",
    "DB1_ = model[0].bias.grad\n",
    "DW2_ = model[1].weight.grad\n",
    "DB2_ = model[1].bias.grad\n",
    "DW3_ = model[2].weight.grad\n",
    "DB3_ = model[2].bias.grad"
   ]
  },
  {
   "cell_type": "markdown",
   "id": "88747387",
   "metadata": {
    "pycharm": {
     "name": "#%% md\n"
    }
   },
   "source": [
    "### Forward Propagation "
   ]
  },
  {
   "cell_type": "code",
   "execution_count": 10,
   "id": "c848be7a",
   "metadata": {
    "pycharm": {
     "name": "#%%\n"
    }
   },
   "outputs": [],
   "source": [
    "Z1 = torch.matmul(A0,W1.T) + B1.reshape((1,2))\n",
    "A1 = Z1\n",
    "Z2 = torch.matmul(A1,W2.T) + B2.reshape((1,2))\n",
    "A2 = Z2\n",
    "Z3 = torch.matmul(A2,W3.T) + B3\n",
    "A3 = Z3"
   ]
  },
  {
   "cell_type": "markdown",
   "id": "3582604d",
   "metadata": {
    "pycharm": {
     "name": "#%% md\n"
    }
   },
   "source": [
    "### My Backward Propagation "
   ]
  },
  {
   "cell_type": "code",
   "execution_count": 11,
   "id": "aa7ffbde",
   "metadata": {
    "pycharm": {
     "name": "#%%\n"
    }
   },
   "outputs": [],
   "source": [
    "DA3 = - (torch.divide(target, A3) - torch.divide(1 - target, 1 - A3))\n",
    "DZ3 = DA3"
   ]
  },
  {
   "cell_type": "code",
   "execution_count": 12,
   "id": "69fbcea8",
   "metadata": {
    "pycharm": {
     "name": "#%%\n"
    }
   },
   "outputs": [],
   "source": [
    "DW3 = torch.matmul(DZ3.T,A2)/BS\n",
    "DB3 = torch.sum(DZ3 ,dim=0,keepdims=True)/BS # SUM EACH COL\n",
    "DA2 = torch.matmul(DZ3,W3)\n",
    "DZ2 = DA2"
   ]
  },
  {
   "cell_type": "code",
   "execution_count": 13,
   "id": "938fcb17",
   "metadata": {
    "pycharm": {
     "name": "#%%\n"
    }
   },
   "outputs": [],
   "source": [
    "DW2 = torch.matmul(DZ2.T,A1)/BS\n",
    "DB2 = torch.sum(DZ2 ,dim=0,keepdims=True)/BS # SUM EACH COL\n",
    "DA1 = torch.matmul(DZ2,W2)\n",
    "DZ1 = DA1"
   ]
  },
  {
   "cell_type": "code",
   "execution_count": 14,
   "id": "ecea4897",
   "metadata": {
    "pycharm": {
     "name": "#%%\n"
    }
   },
   "outputs": [],
   "source": [
    "DW1 = torch.matmul(DZ1.T,A0)/BS\n",
    "DB1 = torch.sum(DZ1 ,dim=0,keepdims=True)/BS # SUM EACH COL\n",
    "DA0 = torch.matmul(DZ1,W1)\n",
    "DZ0 = DA0"
   ]
  },
  {
   "cell_type": "markdown",
   "id": "c428ee41",
   "metadata": {
    "pycharm": {
     "name": "#%% md\n"
    }
   },
   "source": [
    "### My gradient Descent"
   ]
  },
  {
   "cell_type": "code",
   "execution_count": 22,
   "id": "965bf1e2",
   "metadata": {
    "pycharm": {
     "name": "#%%\n"
    }
   },
   "outputs": [],
   "source": [
    "new_W3 = W3 - (0.1 *DW3 )\n",
    "new_B3 = B3.reshape((1,DB3.shape[1])) - (0.1 *DB3 )\n",
    "new_W2 = W2 - (0.1 *DW2 )\n",
    "new_B2 = B2.reshape((1,DB2.shape[1])) - (0.1 *DB2 )\n",
    "new_W1 = W1 - (0.1 *DW1 )\n",
    "new_B1 = B1.reshape((1,DB1.shape[1])) - (0.1 *DB1 )"
   ]
  },
  {
   "cell_type": "markdown",
   "id": "2e83c2d5",
   "metadata": {
    "pycharm": {
     "name": "#%% md\n"
    }
   },
   "source": [
    "### Pytorch Gradient Descent"
   ]
  },
  {
   "cell_type": "code",
   "execution_count": 33,
   "id": "7a5c2067",
   "metadata": {
    "pycharm": {
     "name": "#%%\n"
    }
   },
   "outputs": [],
   "source": [
    "optimizer.step()"
   ]
  }
 ],
 "metadata": {
  "kernelspec": {
   "display_name": "Python 3 (ipykernel)",
   "language": "python",
   "name": "python3"
  },
  "language_info": {
   "codemirror_mode": {
    "name": "ipython",
    "version": 3
   },
   "file_extension": ".py",
   "mimetype": "text/x-python",
   "name": "python",
   "nbconvert_exporter": "python",
   "pygments_lexer": "ipython3",
   "version": "3.9.11"
  }
 },
 "nbformat": 4,
 "nbformat_minor": 5
}