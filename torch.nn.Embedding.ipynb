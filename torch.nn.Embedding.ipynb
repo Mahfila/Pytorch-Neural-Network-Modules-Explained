{
 "cells": [
  {
   "cell_type": "code",
   "execution_count": 1,
   "id": "11535c40",
   "metadata": {
    "scrolled": true
   },
   "outputs": [],
   "source": [
    "import torch.nn as nn\n",
    "import torch\n"
   ]
  },
  {
   "cell_type": "code",
   "execution_count": 2,
   "id": "983b9053",
   "metadata": {
    "scrolled": true
   },
   "outputs": [
    {
     "data": {
      "text/plain": [
       "<torch._C.Generator at 0x7fc9cd966490>"
      ]
     },
     "execution_count": 2,
     "metadata": {},
     "output_type": "execute_result"
    }
   ],
   "source": [
    "torch.manual_seed(42)"
   ]
  },
  {
   "cell_type": "code",
   "execution_count": 40,
   "id": "c2f1703f",
   "metadata": {},
   "outputs": [],
   "source": [
    "def create_special_sparse_matrix(input_list, em_size):\n",
    "    # Create an empty square matrix of size A x A\n",
    "    square_matrix = torch.zeros(len(input_list), em_size)\n",
    "\n",
    "    # Iterate through each row of the matrix\n",
    "    for i in range(len(input_list)):\n",
    "    # Set the element at column index B[i] to 1\n",
    "        square_matrix[i][B[i]] = 1\n",
    "        \n",
    "    return square_matrix\n"
   ]
  },
  {
   "cell_type": "markdown",
   "id": "43a2204a",
   "metadata": {},
   "source": [
    "## Creating Embedding Wights"
   ]
  },
  {
   "cell_type": "code",
   "execution_count": 4,
   "id": "6d1f6389",
   "metadata": {},
   "outputs": [],
   "source": [
    "sequence_len = 3\n",
    "dictionary_size = 5\n",
    "embedding_size = 2\n",
    "input_tensor = [2,0,1]"
   ]
  },
  {
   "cell_type": "code",
   "execution_count": 5,
   "id": "4951850c",
   "metadata": {},
   "outputs": [],
   "source": [
    "class MyNeuralNetwork(nn.Module):\n",
    "    def __init__(self, dictionary_size, embedding_size):\n",
    "        super(MyNeuralNetwork, self).__init__()\n",
    "        self.embedding = nn.Embedding(dictionary_size, embedding_size)\n",
    "        self.linear1 = nn.Linear(6, 1)\n",
    "        self.linear2 = nn.Linear(1, 1)\n",
    "        self.sigmoid = nn.Sigmoid()\n",
    "        \n",
    "    def forward(self, x):\n",
    "        x = self.embedding(x)\n",
    "        x = x.reshape(1,6)\n",
    "        x = self.linear1(x)\n",
    "        x = self.linear2(x)\n",
    "        x = self.sigmoid(x)\n",
    "        return x\n"
   ]
  },
  {
   "cell_type": "code",
   "execution_count": 6,
   "id": "ccc99be1",
   "metadata": {},
   "outputs": [],
   "source": [
    "embedding_weights = torch.randn((dictionary_size,embedding_size), requires_grad=True)"
   ]
  },
  {
   "cell_type": "code",
   "execution_count": 7,
   "id": "facf41a4",
   "metadata": {
    "scrolled": false
   },
   "outputs": [],
   "source": [
    "embedding_layer = nn.Embedding(dictionary_size,embedding_size)\n",
    "embedding_layer.weight = torch.nn.Parameter(embedding_weights)\n",
    "W0_CLONE = embedding_layer.weight.clone()\n",
    "model = MyNeuralNetwork(dictionary_size,embedding_size)\n",
    "model.embedding.weight = torch.nn.Parameter(embedding_weights)\n",
    "target = torch.tensor([[1.]]).reshape((1,1))\n",
    "A0 = torch.tensor([2,0,1])\n",
    "loss_fn = nn.BCELoss()\n",
    "optimizer = torch.optim.SGD(model.parameters(), lr=0.1)\n",
    "output = model(A0)\n",
    "loss = loss_fn(output,target)\n",
    "loss.backward()"
   ]
  },
  {
   "cell_type": "markdown",
   "id": "68505c00",
   "metadata": {},
   "source": [
    "### Get model's weights"
   ]
  },
  {
   "cell_type": "code",
   "execution_count": 8,
   "id": "78335ec5",
   "metadata": {},
   "outputs": [],
   "source": [
    "A0_E = embedding_layer(A0)\n",
    "A0_E = A0_E.reshape(1,6)\n",
    "W1 = model.linear1.weight\n",
    "B1 = model.linear1.bias\n",
    "W2 = model.linear2.weight\n",
    "B2 = model.linear2.bias"
   ]
  },
  {
   "cell_type": "markdown",
   "id": "1360698b",
   "metadata": {},
   "source": [
    "### Get model's gradients"
   ]
  },
  {
   "cell_type": "code",
   "execution_count": 9,
   "id": "d02e0a88",
   "metadata": {},
   "outputs": [],
   "source": [
    "DW0_ = model.embedding.weight.grad\n",
    "DW1_ = model.linear1.weight.grad\n",
    "DB1_ = model.linear1.bias.grad\n",
    "DW2_ = model.linear2.weight.grad\n",
    "DB2_ = model.linear2.bias.grad"
   ]
  },
  {
   "cell_type": "markdown",
   "id": "2bb2bbbe",
   "metadata": {},
   "source": [
    "### Forward Propagation"
   ]
  },
  {
   "cell_type": "code",
   "execution_count": 12,
   "id": "9203343b",
   "metadata": {},
   "outputs": [],
   "source": [
    "sigmoid = nn.Sigmoid()\n",
    "Z1 = (torch.matmul(A0_E,W1.T) + B1.reshape((1,1)))\n",
    "A1 = Z1\n",
    "Z2 =  torch.matmul(A1,W2.T) + B2.reshape((1,1))\n",
    "A2 = sigmoid(Z2)"
   ]
  },
  {
   "cell_type": "markdown",
   "id": "335d5c0e",
   "metadata": {},
   "source": [
    "### Layer Two backpropagation\n"
   ]
  },
  {
   "cell_type": "code",
   "execution_count": 13,
   "id": "b92f1031",
   "metadata": {
    "scrolled": false
   },
   "outputs": [],
   "source": [
    "sigmoid = nn.Sigmoid()\n",
    "DA2 =  -(torch.divide(target, A2) - torch.divide(1 - target, 1 - A2))\n",
    "DZ2 = DA2 * (sigmoid(Z2) * (1-sigmoid(Z2)))"
   ]
  },
  {
   "cell_type": "code",
   "execution_count": 14,
   "id": "d21471a0",
   "metadata": {
    "scrolled": true
   },
   "outputs": [],
   "source": [
    "\n",
    "DW2 = torch.matmul(DZ2.T,A1)/1\n",
    "DB2 = torch.sum(DZ2 ,dim=0,keepdims=True)/1 \n",
    "DA1 = torch.matmul(DZ2,W2)      \n",
    "DZ1 = DA1"
   ]
  },
  {
   "cell_type": "markdown",
   "id": "dadd6338",
   "metadata": {},
   "source": [
    "### Layer One Backpropagation"
   ]
  },
  {
   "cell_type": "code",
   "execution_count": 41,
   "id": "161cd192",
   "metadata": {},
   "outputs": [],
   "source": [
    "\n",
    "DW1 = torch.matmul(DZ1.T,A0_E)/1\n",
    "DB1 = torch.sum(DZ1 ,dim=0,keepdims=True)/1 \n",
    "DA0 = torch.matmul(DZ1,W1)      \n",
    "DZ0 = DA0"
   ]
  },
  {
   "cell_type": "markdown",
   "id": "4e5bb577",
   "metadata": {},
   "source": [
    "### Embedding Layer backpropagation"
   ]
  },
  {
   "cell_type": "code",
   "execution_count": 42,
   "id": "b1bb6677",
   "metadata": {},
   "outputs": [],
   "source": [
    "DZ0 = DZ0.reshape(3,2)"
   ]
  },
  {
   "cell_type": "code",
   "execution_count": 43,
   "id": "96757ff4",
   "metadata": {
    "scrolled": false
   },
   "outputs": [
    {
     "name": "stdout",
     "output_type": "stream",
     "text": [
      "tensor([[ 0.0520, -0.0580],\n",
      "        [ 0.0516, -0.0351],\n",
      "        [ 0.0106, -0.1150],\n",
      "        [ 0.0000,  0.0000],\n",
      "        [ 0.0000,  0.0000]], grad_fn=<PermuteBackward0>)\n",
      "tensor([[ 0.0520, -0.0580],\n",
      "        [ 0.0516, -0.0351],\n",
      "        [ 0.0106, -0.1150],\n",
      "        [ 0.0000,  0.0000],\n",
      "        [ 0.0000,  0.0000]])\n"
     ]
    }
   ],
   "source": [
    "sparse = create_special_sparse_matrix(input_tensor,dictionary_size)  # sample should be sparse\n",
    "DW0 = torch.matmul(DZ0.T,sparse)\n",
    "print(DW0.T)\n",
    "print(DW0_)"
   ]
  },
  {
   "cell_type": "code",
   "execution_count": null,
   "id": "12b154ca",
   "metadata": {},
   "outputs": [],
   "source": []
  }
 ],
 "metadata": {
  "kernelspec": {
   "display_name": "Python 3 (ipykernel)",
   "language": "python",
   "name": "python3"
  },
  "language_info": {
   "codemirror_mode": {
    "name": "ipython",
    "version": 3
   },
   "file_extension": ".py",
   "mimetype": "text/x-python",
   "name": "python",
   "nbconvert_exporter": "python",
   "pygments_lexer": "ipython3",
   "version": "3.9.4"
  }
 },
 "nbformat": 4,
 "nbformat_minor": 5
}
