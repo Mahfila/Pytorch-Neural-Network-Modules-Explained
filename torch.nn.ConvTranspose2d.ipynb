{
 "cells": [
  {
   "cell_type": "code",
   "execution_count": 1,
   "id": "f5e64d00",
   "metadata": {},
   "outputs": [],
   "source": [
    "import torch.nn as nn\n",
    "import torch"
   ]
  },
  {
   "cell_type": "code",
   "execution_count": 2,
   "id": "55fe564e",
   "metadata": {},
   "outputs": [],
   "source": [
    "#Input: NCHW"
   ]
  },
  {
   "cell_type": "markdown",
   "id": "3a5ad9f6",
   "metadata": {},
   "source": [
    "## Experiments"
   ]
  },
  {
   "cell_type": "markdown",
   "id": "39b5a350",
   "metadata": {},
   "source": [
    "## Case 1 Stride = 2, Padding = 1 ,Output_Padding = 1"
   ]
  },
  {
   "cell_type": "code",
   "execution_count": 3,
   "id": "fec9bd19",
   "metadata": {
    "scrolled": true
   },
   "outputs": [],
   "source": [
    "stride = 2\n",
    "padding = 1\n",
    "output_padding = 1\n",
    "filter_high = 3\n",
    "filter_width = 3\n",
    "batch_size = 1\n",
    "in_channel = 3\n",
    "out_channel = 2\n",
    "input_high = 2\n",
    "input_width = 2\n",
    "inputdata = torch.tensor([[1,0],[0,1],[1,0],[0,1],[1,0],[0,1]],dtype=torch.double).reshape((batch_size,\n",
    "                                                 in_channel,\n",
    "                                                 input_high,\n",
    "                                                 input_width))\n",
    "\n",
    "\n",
    "weigths = torch.tensor([[1,0,2],[0,1,0],[1,0,0],\n",
    "                        [1,0,2],[0,1,0],[1,0,0],\n",
    "                        [1,0,5],[0,1,0],[1,0,0],\n",
    "                        [1,0,5],[0,1,0],[1,0,0],\n",
    "                        [1,0,7],[0,1,0],[1,0,0],\n",
    "                        [1,0,7],[0,1,0],[1,0,0]],dtype=torch.float64).reshape((in_channel,\n",
    "                                                 out_channel,\n",
    "                                                 filter_high,\n",
    "                                                 filter_width))\n",
    "m = nn.ConvTranspose2d(in_channel, out_channel,\n",
    "                       filter_high,\n",
    "                       stride=stride,\n",
    "                       padding=padding,output_padding=output_padding,bias=False)\n",
    "weigths = torch.nn.Parameter(weigths)\n",
    "m.weight = weigths\n",
    "inputdata =inputdata.type(torch.DoubleTensor)\n",
    "output = m(inputdata)"
   ]
  },
  {
   "cell_type": "code",
   "execution_count": 6,
   "id": "c17d7aa0",
   "metadata": {},
   "outputs": [
    {
     "data": {
      "text/plain": [
       "torch.Size([1, 3, 2, 2])"
      ]
     },
     "execution_count": 6,
     "metadata": {},
     "output_type": "execute_result"
    }
   ],
   "source": [
    "inputdata.shape"
   ]
  },
  {
   "cell_type": "code",
   "execution_count": 7,
   "id": "86a729c9",
   "metadata": {
    "scrolled": true
   },
   "outputs": [
    {
     "data": {
      "text/plain": [
       "torch.Size([3, 2, 3, 3])"
      ]
     },
     "execution_count": 7,
     "metadata": {},
     "output_type": "execute_result"
    }
   ],
   "source": [
    "weigths.shape"
   ]
  },
  {
   "cell_type": "code",
   "execution_count": 8,
   "id": "757e458e",
   "metadata": {},
   "outputs": [
    {
     "data": {
      "text/plain": [
       "torch.Size([1, 2, 4, 4])"
      ]
     },
     "execution_count": 8,
     "metadata": {},
     "output_type": "execute_result"
    }
   ],
   "source": [
    "output.shape"
   ]
  },
  {
   "cell_type": "code",
   "execution_count": 13,
   "id": "d321ec9a",
   "metadata": {},
   "outputs": [],
   "source": [
    "\n",
    "weigths = torch.tensor([[1,2,1],[2,0,1],[0,2,1],[1,2,1],[2,0,1],[0,2,1],[1,2,1],[2,0,1],[0,2,1],[1,2,1],[2,0,1],[0,2,1]\n",
    "                        ,[1,2,1],[2,0,1],[0,2,1],[1,2,1],[2,0,1],[0,2,1]],dtype=torch.float64).reshape((out_channel,\n",
    "                                                 in_channel,\n",
    "                                                 filter_high,\n",
    "                                                 filter_width))"
   ]
  },
  {
   "cell_type": "code",
   "execution_count": 26,
   "id": "8aa3dad2",
   "metadata": {
    "scrolled": true
   },
   "outputs": [
    {
     "data": {
      "text/plain": [
       "tensor([[[[ 3.,  0.,  0.,  0.],\n",
       "          [ 0.,  3.,  0., 14.],\n",
       "          [ 0.,  0.,  3.,  0.],\n",
       "          [ 0.,  3.,  0.,  0.]],\n",
       "\n",
       "         [[ 3.,  0.,  0.,  0.],\n",
       "          [ 0.,  3.,  0., 14.],\n",
       "          [ 0.,  0.,  3.,  0.],\n",
       "          [ 0.,  3.,  0.,  0.]]]], dtype=torch.float64,\n",
       "       grad_fn=<SlowConvTranspose2DBackward0>)"
      ]
     },
     "execution_count": 26,
     "metadata": {},
     "output_type": "execute_result"
    }
   ],
   "source": [
    "output"
   ]
  },
  {
   "cell_type": "code",
   "execution_count": 10,
   "id": "f1a7d486",
   "metadata": {},
   "outputs": [
    {
     "data": {
      "text/plain": [
       "4"
      ]
     },
     "execution_count": 10,
     "metadata": {},
     "output_type": "execute_result"
    }
   ],
   "source": [
    "1*2-2*1+1*2+1+1"
   ]
  },
  {
   "cell_type": "markdown",
   "id": "c7f5ce72",
   "metadata": {},
   "source": [
    "## Case 3  Stride = 1, Padding = 0 ,Output_Padding = 0"
   ]
  },
  {
   "cell_type": "code",
   "execution_count": 2,
   "id": "c78312fa",
   "metadata": {},
   "outputs": [],
   "source": [
    "stride = 2\n",
    "padding = 1\n",
    "output_padding = 1\n",
    "filter_high = 3\n",
    "filter_width = 3\n",
    "batch_size = 1\n",
    "channel = 1\n",
    "input_high = 2\n",
    "input_width = 2\n",
    "inputdata = torch.tensor([[1,0],[0,1]],dtype=torch.double).reshape((batch_size,\n",
    "                                                 channel,\n",
    "                                                 input_high,\n",
    "                                                 input_width))\n",
    "weigths = torch.tensor([[1,0,2],[0,1,0],[1,0,0]],dtype=torch.float64).reshape((batch_size,\n",
    "                                                 channel,\n",
    "                                                 filter_high,\n",
    "                                                 filter_width))\n",
    "m = nn.ConvTranspose2d(channel, channel,\n",
    "                       filter_high,\n",
    "                       stride=stride,\n",
    "                       padding=padding,output_padding=output_padding,bias=False)\n",
    "weigths = torch.nn.Parameter(weigths)\n",
    "m.weight = weigths\n",
    "inputdata =inputdata.type(torch.DoubleTensor)\n",
    "output = m(inputdata)"
   ]
  },
  {
   "cell_type": "code",
   "execution_count": 3,
   "id": "450656b9",
   "metadata": {},
   "outputs": [
    {
     "data": {
      "text/plain": [
       "tensor([[[[1., 0., 0., 0.],\n",
       "          [0., 1., 0., 2.],\n",
       "          [0., 0., 1., 0.],\n",
       "          [0., 1., 0., 0.]]]], dtype=torch.float64,\n",
       "       grad_fn=<SlowConvTranspose2DBackward0>)"
      ]
     },
     "execution_count": 3,
     "metadata": {},
     "output_type": "execute_result"
    }
   ],
   "source": [
    "output"
   ]
  },
  {
   "cell_type": "markdown",
   "id": "4b9c2af6",
   "metadata": {},
   "source": [
    "### Notes\n",
    "- Output padding is added just after the operation\n",
    "- Padding is added to output"
   ]
  }
 ],
 "metadata": {
  "kernelspec": {
   "display_name": "Python 3 (ipykernel)",
   "language": "python",
   "name": "python3"
  },
  "language_info": {
   "codemirror_mode": {
    "name": "ipython",
    "version": 3
   },
   "file_extension": ".py",
   "mimetype": "text/x-python",
   "name": "python",
   "nbconvert_exporter": "python",
   "pygments_lexer": "ipython3",
   "version": "3.7.0"
  }
 },
 "nbformat": 4,
 "nbformat_minor": 5
}
