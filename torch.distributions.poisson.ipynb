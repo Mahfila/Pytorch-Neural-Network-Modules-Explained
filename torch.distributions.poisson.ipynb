{
 "cells": [
  {
   "cell_type": "code",
   "execution_count": 9,
   "id": "33b2b5ec-bc4b-405e-b997-1e114bfbbc34",
   "metadata": {},
   "outputs": [],
   "source": [
    "import torch\n",
    "from torch.distributions.poisson import Poisson"
   ]
  },
  {
   "cell_type": "markdown",
   "id": "3b860a5e-1806-4b85-b9c9-cac4e8e29de0",
   "metadata": {},
   "source": [
    "### Computing Probabililties "
   ]
  },
  {
   "cell_type": "code",
   "execution_count": 4,
   "id": "27d2a76a-1f6b-4880-8b3d-1a6d700f12bf",
   "metadata": {
    "scrolled": true
   },
   "outputs": [
    {
     "name": "stdout",
     "output_type": "stream",
     "text": [
      "The probability of receiving exactly 5 phone calls, given λ = 6, is: 0.16062314808368683\n"
     ]
    }
   ],
   "source": [
    "\n",
    "\n",
    "# Step 1: Create a Poisson distribution with λ = 6 - Average number of customers each hour\n",
    "lambda_value = 6\n",
    "poisson_dist = torch.distributions.Poisson(torch.tensor([lambda_value]))\n",
    "\n",
    "# Step 2: Calculate log probability of receiving 5 phone calls in the next hour(k)\n",
    "k = 5\n",
    "log_prob_k = poisson_dist.log_prob(torch.tensor([k]))\n",
    "\n",
    "# Step 3: Exponentiate to get the probability\n",
    "prob_k = torch.exp(log_prob_k)\n",
    "\n",
    "print(f\"The probability of receiving exactly {k} phone calls, given λ = {lambda_value}, is: {prob_k.item()}\")\n"
   ]
  },
  {
   "cell_type": "markdown",
   "id": "e6e3d458-72b5-438f-9bbd-7c055a3d40d3",
   "metadata": {},
   "source": [
    "### Sample 2 items, given  λ = 6"
   ]
  },
  {
   "cell_type": "code",
   "execution_count": 18,
   "id": "b04c4a18-a143-4a05-a12b-f9265105a1ff",
   "metadata": {},
   "outputs": [
    {
     "name": "stdout",
     "output_type": "stream",
     "text": [
      "tensor([[2.],\n",
      "        [9.]])\n"
     ]
    }
   ],
   "source": [
    "lambda_value = 6.\n",
    "poission_distribution = Poisson(torch.tensor([lambda_value]))\n",
    "print(poission_distribution.sample([2]))"
   ]
  },
  {
   "cell_type": "code",
   "execution_count": null,
   "id": "f09b9d84-8af6-4442-b4ad-2e9cc1a18f2e",
   "metadata": {},
   "outputs": [],
   "source": []
  }
 ],
 "metadata": {
  "kernelspec": {
   "display_name": "Python 3 (ipykernel)",
   "language": "python",
   "name": "python3"
  },
  "language_info": {
   "codemirror_mode": {
    "name": "ipython",
    "version": 3
   },
   "file_extension": ".py",
   "mimetype": "text/x-python",
   "name": "python",
   "nbconvert_exporter": "python",
   "pygments_lexer": "ipython3",
   "version": "3.12.2"
  }
 },
 "nbformat": 4,
 "nbformat_minor": 5
}
