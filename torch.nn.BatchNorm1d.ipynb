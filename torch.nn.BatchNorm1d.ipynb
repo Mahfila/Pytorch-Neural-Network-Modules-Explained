{
 "cells": [
  {
   "cell_type": "code",
   "execution_count": 1,
   "id": "d35721e9",
   "metadata": {},
   "outputs": [],
   "source": [
    "import torch.nn as nn\n",
    "import torch"
   ]
  },
  {
   "cell_type": "code",
   "execution_count": 2,
   "id": "9b4f3bfb",
   "metadata": {},
   "outputs": [],
   "source": [
    "m = nn.BatchNorm1d(2,affine=False)\n",
    "data = torch.tensor([[1,3],[3,2],[8,4]],dtype=torch.float32)\n",
    "result = m(data)"
   ]
  },
  {
   "cell_type": "code",
   "execution_count": 3,
   "id": "5cebce1d",
   "metadata": {},
   "outputs": [
    {
     "data": {
      "text/plain": [
       "tensor([[-1.0190,  0.0000],\n",
       "        [-0.3397, -1.2247],\n",
       "        [ 1.3587,  1.2247]])"
      ]
     },
     "execution_count": 3,
     "metadata": {},
     "output_type": "execute_result"
    }
   ],
   "source": [
    "result"
   ]
  },
  {
   "cell_type": "markdown",
   "id": "d86fe769",
   "metadata": {},
   "source": [
    "### Calculating Statistics"
   ]
  },
  {
   "cell_type": "code",
   "execution_count": 4,
   "id": "1d959f0d",
   "metadata": {},
   "outputs": [],
   "source": [
    "mean = data.mean(dim=0)\n",
    "var = data.var(dim=0,unbiased=False)\n",
    "eps = 0.00001\n",
    "momentum = 0.1"
   ]
  },
  {
   "cell_type": "markdown",
   "id": "b7ab26a8",
   "metadata": {},
   "source": [
    "### Normalizing - Type One"
   ]
  },
  {
   "cell_type": "code",
   "execution_count": 5,
   "id": "307ff8b7",
   "metadata": {},
   "outputs": [],
   "source": [
    "y = (data-mean)/(torch.sqrt(var+eps))"
   ]
  },
  {
   "cell_type": "code",
   "execution_count": 6,
   "id": "08ac9c98",
   "metadata": {
    "scrolled": false
   },
   "outputs": [
    {
     "data": {
      "text/plain": [
       "tensor([[-1.0190,  0.0000],\n",
       "        [-0.3397, -1.2247],\n",
       "        [ 1.3587,  1.2247]])"
      ]
     },
     "execution_count": 6,
     "metadata": {},
     "output_type": "execute_result"
    }
   ],
   "source": [
    "y"
   ]
  },
  {
   "cell_type": "markdown",
   "id": "077c32a6",
   "metadata": {},
   "source": [
    "### Normalizing - Way Two"
   ]
  },
  {
   "cell_type": "code",
   "execution_count": 7,
   "id": "cffc5ae1",
   "metadata": {},
   "outputs": [],
   "source": [
    "var2 = torch.sum((data-mean) *(data-mean),dim=0)/3"
   ]
  },
  {
   "cell_type": "code",
   "execution_count": 8,
   "id": "6414171b",
   "metadata": {},
   "outputs": [],
   "source": [
    "y = (data-mean)/(torch.sqrt(var2+eps))"
   ]
  },
  {
   "cell_type": "code",
   "execution_count": 9,
   "id": "e5730319",
   "metadata": {
    "scrolled": false
   },
   "outputs": [
    {
     "data": {
      "text/plain": [
       "tensor([[-1.0190,  0.0000],\n",
       "        [-0.3397, -1.2247],\n",
       "        [ 1.3587,  1.2247]])"
      ]
     },
     "execution_count": 9,
     "metadata": {},
     "output_type": "execute_result"
    }
   ],
   "source": [
    "y"
   ]
  },
  {
   "cell_type": "code",
   "execution_count": null,
   "id": "587dbe85",
   "metadata": {},
   "outputs": [],
   "source": []
  }
 ],
 "metadata": {
  "kernelspec": {
   "display_name": "Python 3 (ipykernel)",
   "language": "python",
   "name": "python3"
  },
  "language_info": {
   "codemirror_mode": {
    "name": "ipython",
    "version": 3
   },
   "file_extension": ".py",
   "mimetype": "text/x-python",
   "name": "python",
   "nbconvert_exporter": "python",
   "pygments_lexer": "ipython3",
   "version": "3.9.4"
  },
  "varInspector": {
   "cols": {
    "lenName": 16,
    "lenType": 16,
    "lenVar": 40
   },
   "kernels_config": {
    "python": {
     "delete_cmd_postfix": "",
     "delete_cmd_prefix": "del ",
     "library": "var_list.py",
     "varRefreshCmd": "print(var_dic_list())"
    },
    "r": {
     "delete_cmd_postfix": ") ",
     "delete_cmd_prefix": "rm(",
     "library": "var_list.r",
     "varRefreshCmd": "cat(var_dic_list()) "
    }
   },
   "types_to_exclude": [
    "module",
    "function",
    "builtin_function_or_method",
    "instance",
    "_Feature"
   ],
   "window_display": false
  }
 },
 "nbformat": 4,
 "nbformat_minor": 5
}
